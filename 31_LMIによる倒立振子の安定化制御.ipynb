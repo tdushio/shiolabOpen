{
  "cells": [
    {
      "cell_type": "markdown",
      "metadata": {
        "id": "view-in-github",
        "colab_type": "text"
      },
      "source": [
        "<a href=\"https://colab.research.google.com/github/tdushio/shiolabOpen/blob/master/31_LMI%E3%81%AB%E3%82%88%E3%82%8B%E5%80%92%E7%AB%8B%E6%8C%AF%E5%AD%90%E3%81%AE%E5%AE%89%E5%AE%9A%E5%8C%96%E5%88%B6%E5%BE%A1.ipynb\" target=\"_parent\"><img src=\"https://colab.research.google.com/assets/colab-badge.svg\" alt=\"Open In Colab\"/></a>"
      ]
    },
    {
      "cell_type": "markdown",
      "metadata": {
        "id": "s71uCXoLzTUY"
      },
      "source": [
        "# 31.Demo_LMIによる倒立振子の安定化制御"
      ]
    },
    {
      "cell_type": "markdown",
      "source": [
        "※これは Qiitaで紹介された記事\n",
        "「Python使って、LMIを解いて、倒立振り子の状態フィードバック制御器を設計する」\n",
        "：https://qiita.com/R-second/items/78fb38dece73db13b834　をもとに汐月がアレンジしたスクリプトです。\n",
        "\n"
      ],
      "metadata": {
        "id": "D0FrSNIzuQwg"
      }
    },
    {
      "cell_type": "markdown",
      "source": [
        "ここからが Qiitaの掲載記事の内容です\n",
        "# 概要\n",
        "\n",
        "<A href=\"https://www.morikita.co.jp/books/mid/092101\" target=\"_blank\">\n",
        "『LMIによるシステム制御 ロバスト制御系設計のための体系的アプローチ』 (蛯原義雄, 森北出版)</A>の1章の問題をPython(cvxpy)で実装してみた.\n",
        "\n",
        "この記事で得られること：\n",
        "<ul>\n",
        "<li> Pythonを用いて、線形行列不等式(LMI; Linear Matrix Inequality)を解く.</li>\n",
        "<li> Pythonを用いて、制御器を設計し、倒立振り子の数値シミュレーションを行う.</li>\n",
        "<li> 具体的な例を通して、cvxpyの使い方をまとめる.</li>\n",
        "</ul>"
      ],
      "metadata": {
        "id": "33jZyvept4GR"
      }
    },
    {
      "cell_type": "markdown",
      "source": [
        "## 記事の目的\n",
        "PythonでLMIを解くときには、限られた選択肢しかない.(参考：PythonのSDP実行時間比較)\n",
        "さらに、困ったことに、cvxpyでLMIを解く日本語の記事がほっっとんどない.\n",
        "そのため、<A href=\"https://www.cvxpy.org/index.html\">cvxpy 公式ドキュメント</A>を読んで、試行錯誤...\n",
        "その結果を、今後のためにも備忘録的にまとめておくことにした."
      ],
      "metadata": {
        "id": "gX6eMo-VBUk3"
      }
    },
    {
      "cell_type": "markdown",
      "source": [
        "## 問題設定と求解すべきLMI"
      ],
      "metadata": {
        "id": "5ZSRvnILvQc4"
      }
    },
    {
      "cell_type": "markdown",
      "source": [
        "## 制御対象のモデル\n",
        "倒立振子のモデルを\n",
        "$1$ 入力$4$出力$4$次の線形時不変システム(LTI)で与える。<br>\n",
        "\\begin{equation}\n",
        "   \\dot{x}(t) = A x(t) + B u(t) , \\;\n",
        "    y(t) = C x(t),\\;\\; x(0)=x_0  \\nonumber\n",
        "\\end{equation}\n",
        "ここで、状態$x(t)\\in{\\mathrm R}^4$は\n",
        "$x=[z,\\theta,\\dot{z},\\dot{\\theta}]^\\top$、\n",
        "$u(t)\\in{\\mathrm R}$はモータへの入力である。\n",
        "$x_0\\in{\\mathrm R}^4$は初期状態を表す。\n",
        "\n",
        "(詳しいパラメータの意味や値は本質的ではないので、ここでは割愛)\n",
        "\n",
        "## 制御の目的\n",
        "\n",
        "この制御対象に対し、<br>\n",
        "<ol>\n",
        "<li>閉ループシステムを安定化する</li>\n",
        "<li>初期状態が平衡状態からずれていても、すみやかに平衡状態に整定する</li>\n",
        "<li>角度が $\\pi/36$ rad から制御を開始した時の制御入力の振幅が1.2を超えない (初期状態が $ x(0) = B_{w_2}=[0.\\pi/36,0,0]$ から制御を開始したとき)\n",
        "という要件を満たす状態フィードバック制御器  $u = KX^{-1}$  を設計する.</li>\n",
        "</ol>"
      ],
      "metadata": {
        "id": "5qfrz_MYvxVf"
      }
    },
    {
      "cell_type": "markdown",
      "source": [
        "## ＜解説＞\n",
        "制御目的は、時間応答波形の特徴で定量的に定義されている。<br>\n",
        "制御手法は、状態フィードバックを選択している<br>\n",
        "制御器設計手法は、LMIを採用している<br>\n",
        "LMIとは、線形行列不等式(Linear Matrix Inequality)を拘束条件とする最適化問題の解法"
      ],
      "metadata": {
        "id": "4QLLlt2xCaQF"
      }
    },
    {
      "cell_type": "markdown",
      "source": [
        "# LMI\n",
        "\n",
        "設計仕様を定式化すると、次のLMIを満たす $X,Y$ を求め、\n",
        "$K=YX^{-1}$ で定めればよい.(導出は参考文献の本をご確認ください)\n",
        "\\begin{equation}\n",
        "\\left[ \\begin{array}{cc}\n",
        "    \\mathrm{He}(AX+BY) & * \\\\ C_{z2}X+D_{z2u}Y & -\\gamma I_5\n",
        "  \\end{array} \\right] \\prec 0,\\;\\;\n",
        "\\left[ \\begin{array}{cc}\n",
        "    X & * \\\\ B_{w2} &1\n",
        "  \\end{array} \\right] \\succ 0,\\;\\;\n",
        "\\left[ \\begin{array}{cc}\n",
        "    X & * \\\\ Y & 1.2^2\n",
        "  \\end{array} \\right] \\succ 0,\\;\\;  \n",
        "\\end{equation}\n",
        "ただし、$C_{z2}, D_{z2u}$ は以下。\n",
        "\\begin{equation}\n",
        "C_{z2}=[I_4\\;O_{4,1}]^\\top,\\;\\; D_{z2u}=[0_{1,4}\\; 1]^\\top\n",
        "\\end{equation}\n",
        "また、$\\mathrm{He}(A)=A+A^\\top$\n",
        "である.\n",
        "\n",
        "実際に求解する際には、上のLMIを制約として、$\\gamma$\n",
        "を最小化する半正定値計画問題を解くことになる."
      ],
      "metadata": {
        "id": "5QugnhUxx4Dp"
      }
    },
    {
      "cell_type": "markdown",
      "source": [
        "# モジュールのインストール\n",
        "以下のライブラリを使用する。\n",
        "\n",
        "\n",
        "*   numpy\n",
        "*   matplotlib\n",
        "*   control (制御工学ライブラリ)\n",
        "*   cvxpy (LMIを求解するためのライブラリ)\n",
        "\n",
        "### <参考>\n",
        "<A href=\"https://python-control.readthedocs.io/en/0.10.0/\">制御工学モジュール control のドキュメント</a><br>\n",
        "<A href=\"https://numpy.org/doc\">numpy のドキュメント</A><br>\n",
        "<A href=\"https://matplotlib.org/stable/index.html\">matplotlib のドキュメント</A><br>\n",
        "<A href=\"https://www.cvxpy.org/\">cvxpy のドキュメント</A>"
      ],
      "metadata": {
        "id": "swT3hkJnG9UO"
      }
    },
    {
      "cell_type": "code",
      "execution_count": null,
      "metadata": {
        "id": "uvxwwxrjzTUZ",
        "colab": {
          "base_uri": "https://localhost:8080/"
        },
        "outputId": "f2ea5030-1f9a-4361-f18e-a183ff797ffd"
      },
      "outputs": [
        {
          "output_type": "stream",
          "name": "stdout",
          "text": [
            "Collecting control\n",
            "  Downloading control-0.10.0-py3-none-any.whl (513 kB)\n",
            "\u001b[2K     \u001b[90m━━━━━━━━━━━━━━━━━━━━━━━━━━━━━━━━━━━━━━━━\u001b[0m \u001b[32m513.9/513.9 kB\u001b[0m \u001b[31m3.8 MB/s\u001b[0m eta \u001b[36m0:00:00\u001b[0m\n",
            "\u001b[?25hRequirement already satisfied: numpy>=1.23 in /usr/local/lib/python3.10/dist-packages (from control) (1.25.2)\n",
            "Requirement already satisfied: scipy>=1.8 in /usr/local/lib/python3.10/dist-packages (from control) (1.11.4)\n",
            "Requirement already satisfied: matplotlib>=3.6 in /usr/local/lib/python3.10/dist-packages (from control) (3.7.1)\n",
            "Requirement already satisfied: contourpy>=1.0.1 in /usr/local/lib/python3.10/dist-packages (from matplotlib>=3.6->control) (1.2.1)\n",
            "Requirement already satisfied: cycler>=0.10 in /usr/local/lib/python3.10/dist-packages (from matplotlib>=3.6->control) (0.12.1)\n",
            "Requirement already satisfied: fonttools>=4.22.0 in /usr/local/lib/python3.10/dist-packages (from matplotlib>=3.6->control) (4.53.0)\n",
            "Requirement already satisfied: kiwisolver>=1.0.1 in /usr/local/lib/python3.10/dist-packages (from matplotlib>=3.6->control) (1.4.5)\n",
            "Requirement already satisfied: packaging>=20.0 in /usr/local/lib/python3.10/dist-packages (from matplotlib>=3.6->control) (24.1)\n",
            "Requirement already satisfied: pillow>=6.2.0 in /usr/local/lib/python3.10/dist-packages (from matplotlib>=3.6->control) (9.4.0)\n",
            "Requirement already satisfied: pyparsing>=2.3.1 in /usr/local/lib/python3.10/dist-packages (from matplotlib>=3.6->control) (3.1.2)\n",
            "Requirement already satisfied: python-dateutil>=2.7 in /usr/local/lib/python3.10/dist-packages (from matplotlib>=3.6->control) (2.8.2)\n",
            "Requirement already satisfied: six>=1.5 in /usr/local/lib/python3.10/dist-packages (from python-dateutil>=2.7->matplotlib>=3.6->control) (1.16.0)\n",
            "Installing collected packages: control\n",
            "Successfully installed control-0.10.0\n"
          ]
        }
      ],
      "source": [
        "import numpy as np\n",
        "import cvxpy as cp\n",
        "# !pip install slycot\n",
        "!pip install control\n",
        "from control import matlab   # matlab 互換関数を使用する場合\n",
        "import matplotlib.pyplot as plt"
      ]
    },
    {
      "cell_type": "code",
      "source": [],
      "metadata": {
        "id": "UrKqvUK0GLS0"
      },
      "execution_count": null,
      "outputs": []
    },
    {
      "cell_type": "markdown",
      "source": [
        "# プログラム\n",
        "\n",
        "1.  状態方程式の作成\n",
        "2.  LMI条件の作成\n",
        "3.  求解\n",
        "4. 制御器の復元\n",
        "5. シミュレーション\n",
        "\n",
        "\n"
      ],
      "metadata": {
        "id": "4VM-ANrQGJNc"
      }
    },
    {
      "cell_type": "markdown",
      "source": [
        "# 制御対象のモデル\n",
        "倒立振子のモデルを\n",
        "$1$ 入力$4$出力$4$次の線形時不変システム(LTI)で与える。<br>\n",
        "\\begin{equation}\n",
        "   \\dot{x}(t) = A x(t) + B u(t) , \\;\n",
        "    y(t) = C x(t),\\;\\; x(0)=x_0  \\nonumber\n",
        "\\end{equation}\n",
        "ここで、$u(t)\\in{\\mathrm R}$はモータへの入力,\n",
        "$y(t)\\in{\\mathrm R}^4$は出力,$x(t)\\in{\\mathrm R}^4$は状態の時刻$t\\in [0,T_f]$での値を成分とする列ベクトルである。<br>\n",
        "$\\dot{x}$は状態$x$の導関数を表す。<br>\n",
        "$A\\in{\\mathrm R}^{4\\times 4}$,$B\\in{\\mathrm R}^{4\\times 1}$,$C\\in{\\mathrm R}^{4\\times 4}$,$D\\in{\\mathrm R}^{4\\times 1}$は定数行列である.<br>\n",
        "$x_0\\in{\\mathrm R}^4$は初期状態を表す。"
      ],
      "metadata": {
        "id": "Lwqozj1THiqQ"
      }
    },
    {
      "cell_type": "markdown",
      "source": [
        "制御対象に関わる物理量"
      ],
      "metadata": {
        "id": "CMKqkzgLqXXk"
      }
    },
    {
      "cell_type": "code",
      "source": [
        "l = 0.15             # 振子の長さ\n",
        "m = 0.0402           # 振子の質量\n",
        "Jp = 0.00030142      # 振子の慣性モーメント\n",
        "M = 0.6862           # 台車の質量\n",
        "Jt = 1.34 * 10**(-4)\n",
        "Jm = 1.30 * 10**(-7)\n",
        "Jc = Jt + Jm\n",
        "r = 0.02485\n",
        "F = 0.36\n",
        "c = 0.0015\n",
        "g = 9.80665\n",
        "a = 1.9\n",
        "\n",
        "p = M + m + Jc/(r*r)\n",
        "q = Jp + m*l*l\n",
        "W = 1/(p * q - m * m * l * l)\n"
      ],
      "metadata": {
        "id": "R7nqTT8xop2H"
      },
      "execution_count": null,
      "outputs": []
    },
    {
      "cell_type": "markdown",
      "source": [
        "係数行列の作成"
      ],
      "metadata": {
        "id": "cFd3NnawpR0t"
      }
    },
    {
      "cell_type": "code",
      "source": [
        "A = np.array([\n",
        "    [0, 0, 1, 0],\n",
        "    [0, 0, 0, 1],\n",
        "    [0, -m*m*g*l*l*W, -F*q*W, c*m*l*W],\n",
        "    [0, m*g*l*p*W, F*m*l*W, -c*p*W]\n",
        "    ])\n",
        "B = np.array([[0, 0, a*q*W, -a*m*l*W]]).T\n",
        "C = np.array([[1, 0, 0, 0], [0, 1, 0, 0]])\n",
        "D = np.zeros((2, 1))\n",
        "\n",
        "# 今回は使わないが、状態空間の生成は以下\n",
        "sys = matlab.ss(A, B, C, D)\n"
      ],
      "metadata": {
        "id": "sqr-z9vdpRdV"
      },
      "execution_count": null,
      "outputs": []
    },
    {
      "cell_type": "markdown",
      "metadata": {
        "id": "FVyp4qURzTUa"
      },
      "source": [
        "設計用の制御対象モデルのための係数行列"
      ]
    },
    {
      "cell_type": "code",
      "source": [
        "Bw2 = np.array([[0, np.pi / 36, 0, 0 ]]).T    # 初期状態\n",
        "Cz2 = np.array(np.eye(5, 4))     # 対角成分が１. それ以外は0\n",
        "Dz2u = np.array([[0, 0, 0, 0, 1]]).T"
      ],
      "metadata": {
        "id": "qtB0hieSpuz0"
      },
      "execution_count": null,
      "outputs": []
    },
    {
      "cell_type": "markdown",
      "source": [
        "# LMI条件の作成\n",
        "## 変数宣言\n",
        "cp.Variable()で、変数の宣言が可能. 第一引数に(必要であれば)行列の型をタプルで渡す.\n",
        "\n",
        "symmetric=Trueとすると、対称行列であることを条件として課すことができる. (そのほか、nonneg=TrueやPSD=Trueなどがある)"
      ],
      "metadata": {
        "id": "g9ONQGlnpxaM"
      }
    },
    {
      "cell_type": "code",
      "source": [
        "X = cp.Variable((4, 4), symmetric=True)\n",
        "Y = cp.Variable((1, 4))\n",
        "gamma = cp.Variable()"
      ],
      "metadata": {
        "id": "CBlgD7bbpwMt"
      },
      "execution_count": null,
      "outputs": []
    },
    {
      "cell_type": "markdown",
      "source": [
        "## LMI制約の定義\n",
        "LMI制約に必要な関数  $\\mathrm{He}(A)=A+A^\\top$  の定義."
      ],
      "metadata": {
        "id": "rDm88CXcpjnM"
      }
    },
    {
      "cell_type": "code",
      "source": [
        "def He(X):\n",
        "    return X + X.T"
      ],
      "metadata": {
        "id": "PM4KOIvZrCpG"
      },
      "execution_count": null,
      "outputs": []
    },
    {
      "cell_type": "markdown",
      "source": [
        "## LMI制約を定義する.\n",
        "\n",
        "cvxpyの変数を含んだ行列のブロック定義は cp.bmat()で行う."
      ],
      "metadata": {
        "id": "DaNMSOblrFUC"
      }
    },
    {
      "cell_type": "code",
      "source": [
        "M1 = cp.bmat([\n",
        "    [He(A @ X + B @ Y), (Cz2 @ X + Dz2u @ Y).T],\n",
        "    [Cz2 @ X + Dz2u @ Y, -gamma * np.eye(5,5) ]\n",
        "    ])\n",
        "\n",
        "M2 = cp.bmat([\n",
        "    [X, Bw2],\n",
        "    [Bw2.T, np.matrix(1)]\n",
        "    ])\n",
        "\n",
        "M3 = cp.bmat([\n",
        "    [X, Y.T],\n",
        "    [Y, np.matrix(1.2 * 1.2)]\n",
        "    ])\n",
        "\n",
        "# LMI制約の配列\n",
        "constraints = [ M1 << 0 , M2 >> 0, M3 >> 0]"
      ],
      "metadata": {
        "id": "WqXbmVAMrD56"
      },
      "execution_count": null,
      "outputs": []
    },
    {
      "cell_type": "markdown",
      "source": [
        "## 解を求める\n",
        "cp.Problem()で問題の定義. 第一引数に目的、第二引数に制約を渡す.<br>\n",
        "cp.Problem().solve()で求解. 求解の詳細が知りたければ、引数としてverbose=Trueを記述しておく."
      ],
      "metadata": {
        "id": "baRmOdvOpji9"
      }
    },
    {
      "cell_type": "code",
      "source": [
        "prob = cp.Problem(cp.Minimize(gamma), constraints)\n",
        "prob.solve()\n",
        "# prob.solve(verbose=True)"
      ],
      "metadata": {
        "colab": {
          "base_uri": "https://localhost:8080/"
        },
        "id": "RGa8pLuJrqYi",
        "outputId": "7cc36e67-0fa3-4f1d-df5e-46a92231c69a"
      },
      "execution_count": null,
      "outputs": [
        {
          "output_type": "stream",
          "name": "stderr",
          "text": [
            "/usr/local/lib/python3.10/dist-packages/cvxpy/problems/problem.py:1387: UserWarning: Solution may be inaccurate. Try another solver, adjusting the solver settings, or solve with verbose=True for more information.\n",
            "  warnings.warn(\n"
          ]
        },
        {
          "output_type": "execute_result",
          "data": {
            "text/plain": [
              "0.16155352041965393"
            ]
          },
          "metadata": {},
          "execution_count": 8
        }
      ]
    },
    {
      "cell_type": "markdown",
      "source": [
        "以上を実行すると、最小化された\n",
        "として、0.16157841825111297 が得られる.\n",
        "\n",
        "## 制御器の復元\n",
        "制御器は $K=YX^{-1}$ で与えられる.<br>\n",
        "\n",
        "求解後のcvxpyの変数の値は、変数名.valueで取得できる."
      ],
      "metadata": {
        "id": "4iGbal16rXh7"
      }
    },
    {
      "cell_type": "code",
      "execution_count": null,
      "metadata": {
        "id": "eIvfrvDFzTUa"
      },
      "outputs": [],
      "source": [
        "K = Y.value @ np.linalg.inv(X.value)"
      ]
    },
    {
      "cell_type": "markdown",
      "source": [
        "# シミュレーション\n",
        "## 閉ループ系の構成\n",
        "状態フィードバックをかけたときの閉ループ系は以下で与えられる.\n",
        "\\begin{equation}\n",
        "   \\dot{x}(t) = (A+BK) x(t), \\;\\;\n",
        "    y(t) = C x(t),\\;\\; x(0)=x_0  \\nonumber\n",
        "\\end{equation}\n",
        "これを構成する."
      ],
      "metadata": {
        "id": "Hlk5spJvtICB"
      }
    },
    {
      "cell_type": "code",
      "source": [
        "A_ = A + B @ K\n",
        "B_ = np.zeros((4, 1))\n",
        "C_ = C\n",
        "D_ = D\n",
        "\n",
        "sys_cl = matlab.ss(A_, B_, C_, D_)       # 状態空間モデル"
      ],
      "metadata": {
        "id": "plIUTMkmsIvx"
      },
      "execution_count": null,
      "outputs": []
    },
    {
      "cell_type": "markdown",
      "source": [
        "## 時間応答の観察\n",
        "matlab.initialで、システムのゼロ入力応答を取得する."
      ],
      "metadata": {
        "id": "0TFF3XpftHbw"
      }
    },
    {
      "cell_type": "code",
      "source": [
        "# 初期値応答\n",
        "Td = np.arange(0, 10, 0.01)    #シミュレーション時間\n",
        "x0 = Bw2                    #初期値\n",
        "z, t, x = matlab.initial(sys_cl, Td, x0 ,return_x=True)"
      ],
      "metadata": {
        "id": "NXIPDrVisKUx"
      },
      "execution_count": null,
      "outputs": []
    },
    {
      "cell_type": "markdown",
      "source": [
        "応答波形を描画する"
      ],
      "metadata": {
        "id": "VjjZjwk6tpH5"
      }
    },
    {
      "cell_type": "code",
      "source": [
        "# 初期値応答の描画\n",
        "fig, ax = plt.subplots()\n",
        "ax.plot(t, x[:, 0], label = '$z$')\n",
        "ax.plot(t, x[:, 1], ls = '-.', label = '$theta$')\n",
        "ax.set_title('zero input response')\n",
        "\n",
        "ax.set_xlabel('t')\n",
        "ax.set_ylabel('x')\n",
        "ax.grid(ls=':')\n",
        "ax.legend(loc='best')\n",
        "plt.show()"
      ],
      "metadata": {
        "colab": {
          "base_uri": "https://localhost:8080/",
          "height": 472
        },
        "id": "LWZ8o2glsNip",
        "outputId": "5112518d-f04b-4e0a-b34e-446539bbdece"
      },
      "execution_count": null,
      "outputs": [
        {
          "output_type": "display_data",
          "data": {
            "text/plain": [
              "<Figure size 640x480 with 1 Axes>"
            ],
            "image/png": "[encoded data removed]"
          },
          "metadata": {}
        }
      ]
    }
  ],
  "metadata": {
    "kernelspec": {
      "display_name": ".venv",
      "language": "python",
      "name": "python3"
    },
    "language_info": {
      "codemirror_mode": {
        "name": "ipython",
        "version": 3
      },
      "file_extension": ".py",
      "mimetype": "text/x-python",
      "name": "python",
      "nbconvert_exporter": "python",
      "pygments_lexer": "ipython3",
      "version": "3.12.0b2"
    },
    "colab": {
      "provenance": [],
      "include_colab_link": true
    }
  },
  "nbformat": 4,
  "nbformat_minor": 0
}