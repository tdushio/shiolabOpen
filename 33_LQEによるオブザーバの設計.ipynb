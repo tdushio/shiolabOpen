{
  "cells": [
    {
      "cell_type": "markdown",
      "metadata": {
        "id": "view-in-github",
        "colab_type": "text"
      },
      "source": [
        "<a href=\"https://colab.research.google.com/github/tdushio/shiolabOpen/blob/master/33_LQE%E3%81%AB%E3%82%88%E3%82%8B%E3%82%AA%E3%83%96%E3%82%B6%E3%83%BC%E3%83%90%E3%81%AE%E8%A8%AD%E8%A8%88.ipynb\" target=\"_parent\"><img src=\"https://colab.research.google.com/assets/colab-badge.svg\" alt=\"Open In Colab\"/></a>"
      ]
    },
    {
      "cell_type": "markdown",
      "metadata": {
        "id": "s71uCXoLzTUY"
      },
      "source": [
        "# 33.LQEによるオブザーバの設計"
      ]
    },
    {
      "cell_type": "markdown",
      "source": [],
      "metadata": {
        "id": "D0FrSNIzuQwg"
      }
    },
    {
      "cell_type": "markdown",
      "source": [
        "## オブザーバ\n",
        "\n",
        "オブザーバ(observer)とはシステムの状態空間表現を前提として、\n",
        "直接測定可能な入出力信号から、\n",
        "直接測定不可能な状態変数の現在値を推定する\n",
        "状態推定器(state estimator)である。\n",
        "\n",
        "状態変数の過去の値を推定する場合には（ノイズ）フィルタ、\n",
        "未来の値を予測する場合には予測器などとも呼ばれる。\n",
        "\n",
        "カルマンフィルタは確率的外乱を想定した場合の最適予測値を得るオブザーバである。\n",
        "その際最適化問題を、線形システム(Linear system)の2次形式予測誤差(Quadratic)\n",
        "を最小化する推定問題(estimation)として定式化するので LQE問題と呼ばれる。\n",
        "\n"
      ],
      "metadata": {
        "id": "5ZSRvnILvQc4"
      }
    },
    {
      "cell_type": "markdown",
      "source": [
        "## 制御対象のモデル\n",
        "倒立振子のモデルを\n",
        "$1$ 入力$2$出力$4$次の線形時不変システム(LTI)で与える。<br>\n",
        "ここで、状態$x(t)\\in{\\mathrm R}^4$は\n",
        "\\begin{equation}\n",
        "   \\dot{x}(t) = A x(t) + B u(t)+Gw(t) , \\; x(0)=x_0 \\\\\n",
        "    y(t) = C x(t)+Du(t)+v(t),\\;\\;   \\nonumber\n",
        "\\end{equation}\n",
        "$x=[z,\\theta,\\dot{z},\\dot{\\theta}]^\\top$、\n",
        "$u(t)\\in{\\mathrm R}$はモータへの入力である。\n",
        "$x_0\\in{\\mathrm R}^4$は初期状態を表す。<br>\n",
        "また、\n",
        "$E\\{ww^\\top\\}=Q$,$E\\{vv^\\top\\}=R$,$E\\{vw^\\top\\}=O$とする。\n",
        "\n",
        "(詳しいパラメータの意味や値は本質的ではないので、ここでは割愛)\n",
        "\n",
        "\n",
        "## オブザーバの目的\n",
        "\n",
        "入力$u(t)$を制御対象に印加したときの出力$y(t)$を用いて、\n",
        "状態$x(t)$に漸近的に近づく$z(t)\\to x(t)(t\\to\\infty)$を構成する。\n"
      ],
      "metadata": {
        "id": "5qfrz_MYvxVf"
      }
    },
    {
      "cell_type": "markdown",
      "source": [
        "# 全状態オブザーバの構成\n",
        "\n",
        "## アイデアと問題点：\n",
        "　計算機シミュレーション、デジタルツイン\n",
        "\n",
        "## 出力注入による問題解決\n",
        "\n",
        "## 状態フィードバックとの双対性\n",
        "\n",
        "## カルマンフィルタによる設計\n",
        "\n",
        "## 観測と制御の分離定理"
      ],
      "metadata": {
        "id": "dKaAT9twYj7c"
      }
    },
    {
      "cell_type": "markdown",
      "source": [
        "## ＜解説＞\n",
        "制御目的は、時間応答波形の特徴で定量的に定義されている。<br>\n",
        "制御手法は、状態フィードバックを選択している<br>\n",
        "制御器設計手法は、LMIを採用している<br>\n",
        "LMIとは、線形行列不等式(Linear Matrix Inequality)を拘束条件とする最適化問題の解法"
      ],
      "metadata": {
        "id": "4QLLlt2xCaQF"
      }
    },
    {
      "cell_type": "markdown",
      "source": [
        "# LQE\n",
        "\n",
        "全状態オブザーバは\n",
        "\\begin{equation}\n",
        "   \\dot{z}(t) = A z(t) + B u(t) + L(y(t)-Cz(t)-Du(t))  \\nonumber\n",
        "\\end{equation}\n",
        "で構成される。ここで $L$ はオブザーバゲイン（またはカルマンゲイン）と\n",
        "呼ばれる。\n",
        "\n",
        "LQE問題の解として $L$ を得るには\n",
        "リッカチ方程式\n",
        "\\begin{equation}\n",
        "   A P + PA^\\top + GQG^\\top -PC^\\top R^{-1}CP = 0\n",
        "\\end{equation}\n",
        "の正定対称解 $P^*$を用いて\n",
        "\\begin{equation}\n",
        "   L = P C^\\top R^{-1}\n",
        "\\end{equation}\n",
        "で得られる。"
      ],
      "metadata": {
        "id": "5QugnhUxx4Dp"
      }
    },
    {
      "cell_type": "markdown",
      "source": [
        "# モジュールのインストール\n",
        "以下のライブラリを使用する。\n",
        "\n",
        "\n",
        "*   numpy\n",
        "*   matplotlib\n",
        "*   control (制御工学ライブラリ)\n",
        "*   cvxpy (LMIを求解するためのライブラリ)\n",
        "\n",
        "### <参考>\n",
        "<A href=\"https://python-control.readthedocs.io/en/0.10.0/\">制御工学モジュール control のドキュメント</a><br>\n",
        "<A href=\"https://numpy.org/doc\">numpy のドキュメント</A><br>\n",
        "<A href=\"https://matplotlib.org/stable/index.html\">matplotlib のドキュメント</A><br>\n",
        "<A href=\"https://www.cvxpy.org/\">cvxpy のドキュメント</A>"
      ],
      "metadata": {
        "id": "swT3hkJnG9UO"
      }
    },
    {
      "cell_type": "code",
      "execution_count": 326,
      "metadata": {
        "id": "uvxwwxrjzTUZ",
        "colab": {
          "base_uri": "https://localhost:8080/"
        },
        "outputId": "47f92b90-fcbe-43db-ebfc-6059c12ba4fd"
      },
      "outputs": [
        {
          "output_type": "stream",
          "name": "stdout",
          "text": [
            "Requirement already satisfied: control in /usr/local/lib/python3.10/dist-packages (0.10.0)\n",
            "Requirement already satisfied: numpy>=1.23 in /usr/local/lib/python3.10/dist-packages (from control) (1.25.2)\n",
            "Requirement already satisfied: scipy>=1.8 in /usr/local/lib/python3.10/dist-packages (from control) (1.11.4)\n",
            "Requirement already satisfied: matplotlib>=3.6 in /usr/local/lib/python3.10/dist-packages (from control) (3.7.1)\n",
            "Requirement already satisfied: contourpy>=1.0.1 in /usr/local/lib/python3.10/dist-packages (from matplotlib>=3.6->control) (1.2.1)\n",
            "Requirement already satisfied: cycler>=0.10 in /usr/local/lib/python3.10/dist-packages (from matplotlib>=3.6->control) (0.12.1)\n",
            "Requirement already satisfied: fonttools>=4.22.0 in /usr/local/lib/python3.10/dist-packages (from matplotlib>=3.6->control) (4.53.0)\n",
            "Requirement already satisfied: kiwisolver>=1.0.1 in /usr/local/lib/python3.10/dist-packages (from matplotlib>=3.6->control) (1.4.5)\n",
            "Requirement already satisfied: packaging>=20.0 in /usr/local/lib/python3.10/dist-packages (from matplotlib>=3.6->control) (24.1)\n",
            "Requirement already satisfied: pillow>=6.2.0 in /usr/local/lib/python3.10/dist-packages (from matplotlib>=3.6->control) (9.4.0)\n",
            "Requirement already satisfied: pyparsing>=2.3.1 in /usr/local/lib/python3.10/dist-packages (from matplotlib>=3.6->control) (3.1.2)\n",
            "Requirement already satisfied: python-dateutil>=2.7 in /usr/local/lib/python3.10/dist-packages (from matplotlib>=3.6->control) (2.8.2)\n",
            "Requirement already satisfied: six>=1.5 in /usr/local/lib/python3.10/dist-packages (from python-dateutil>=2.7->matplotlib>=3.6->control) (1.16.0)\n"
          ]
        }
      ],
      "source": [
        "import numpy as np\n",
        "import cvxpy as cp\n",
        "# !pip install slycot\n",
        "!pip install control\n",
        "from control import matlab   # matlab 互換関数を使用する場合\n",
        "import matplotlib.pyplot as plt"
      ]
    },
    {
      "cell_type": "markdown",
      "source": [
        "# プログラム\n",
        "\n",
        "1.  状態方程式の作成\n",
        "2.  LMI条件の作成\n",
        "3.  求解\n",
        "4. 制御器の復元\n",
        "5. シミュレーション\n",
        "\n",
        "\n"
      ],
      "metadata": {
        "id": "4VM-ANrQGJNc"
      }
    },
    {
      "cell_type": "markdown",
      "source": [
        "# 制御対象のモデル\n",
        "倒立振子のモデルを\n",
        "$1$ 入力$4$出力$4$次の線形時不変システム(LTI)で与える。<br>\n",
        "\\begin{equation}\n",
        "   \\dot{x}(t) = A x(t) + B u(t) , \\; x(0)=x_0  \\\\\n",
        "    y(t) = C x(t),\\;\\; \\nonumber\n",
        "\\end{equation}\n",
        "ここで、$u(t)\\in{\\mathrm R}$はモータへの入力,\n",
        "$y(t)\\in{\\mathrm R}^4$は出力,$x(t)\\in{\\mathrm R}^4$は状態の時刻$t\\in [0,T_f]$での値を成分とする列ベクトルである。<br>\n",
        "$\\dot{x}$は状態$x$の導関数を表す。<br>\n",
        "$A\\in{\\mathrm R}^{4\\times 4}$,$B\\in{\\mathrm R}^{4\\times 1}$,$C\\in{\\mathrm R}^{4\\times 4}$,$D\\in{\\mathrm R}^{4\\times 1}$は定数行列である.<br>\n",
        "$x_0\\in{\\mathrm R}^4$は初期状態を表す。"
      ],
      "metadata": {
        "id": "Lwqozj1THiqQ"
      }
    },
    {
      "cell_type": "markdown",
      "source": [
        "制御対象に関わる物理量"
      ],
      "metadata": {
        "id": "CMKqkzgLqXXk"
      }
    },
    {
      "cell_type": "code",
      "source": [
        "l = 0.15             # 振子の長さ\n",
        "m = 0.0402           # 振子の質量\n",
        "Jp = 0.00030142      # 振子の慣性モーメント\n",
        "M = 0.6862           # 台車の質量\n",
        "Jt = 1.34 * 10**(-4)\n",
        "Jm = 1.30 * 10**(-7)\n",
        "Jc = Jt + Jm\n",
        "r = 0.02485\n",
        "F = 0.36\n",
        "c = 0.0015\n",
        "g = 9.80665\n",
        "a = 1.9\n",
        "\n",
        "p = M + m + Jc/(r*r)\n",
        "q = Jp + m*l*l\n",
        "W = 1/(p * q - m * m * l * l)\n"
      ],
      "metadata": {
        "id": "R7nqTT8xop2H"
      },
      "execution_count": 327,
      "outputs": []
    },
    {
      "cell_type": "markdown",
      "source": [
        "係数行列の作成"
      ],
      "metadata": {
        "id": "cFd3NnawpR0t"
      }
    },
    {
      "cell_type": "code",
      "source": [
        "A = np.array([\n",
        "    [0, 0, 1, 0],\n",
        "    [0, 0, 0, 1],\n",
        "    [0, -m*m*g*l*l*W, -F*q*W, c*m*l*W],\n",
        "    [0, m*g*l*p*W, F*m*l*W, -c*p*W]\n",
        "    ])\n",
        "B = np.array([[0, 0, a*q*W, -a*m*l*W]]).T\n",
        "C = np.array([[1, 0, 0, 0], [0, 1, 0, 0]])\n",
        "D = np.zeros((2, 1))\n",
        "\n",
        "G = np.eye(4)\n",
        "QN = np.diag([1,1,1,1])\n",
        "RN = np.diag([1,1])\n",
        "\n",
        "# 今回は使わないが、状態空間の生成は以下\n",
        "sys = matlab.ss(A, B, C, D)\n"
      ],
      "metadata": {
        "id": "sqr-z9vdpRdV"
      },
      "execution_count": 328,
      "outputs": []
    },
    {
      "cell_type": "markdown",
      "source": [
        "# オブザーバの構成条件を確認する\n",
        "可観測性を以下の可観測行列のランク条件で確認する\n",
        "\\begin{equation}\n",
        "  M_o = \\left[ \\begin{array}{c} C \\\\ CA \\\\ CA^2 \\\\ CA^3 \\end{array} \\right]\n",
        "  \\in {\\mathrm R}^{8\\times 4}\n",
        "\\end{equation}\n"
      ],
      "metadata": {
        "id": "ct1sg4q7Y5QT"
      }
    },
    {
      "cell_type": "code",
      "source": [
        "Mo = C\n",
        "Mo = np.append(C,Mo@A,axis=0)\n",
        "Mo = np.append(C,Mo@A,axis=0)\n",
        "Mo = np.append(C,Mo@A,axis=0)\n",
        "print(Mo)\n",
        "rank = np.linalg.matrix_rank(Mo)\n",
        "print(rank)\n",
        "if rank==4:\n",
        "  print('Observable')\n",
        "else:\n",
        "  print('Not observable')\n"
      ],
      "metadata": {
        "colab": {
          "base_uri": "https://localhost:8080/"
        },
        "id": "ixnKZkP3Y-y7",
        "outputId": "e2d57d61-6b66-4691-ac7d-403ecaa7b3df"
      },
      "execution_count": 329,
      "outputs": [
        {
          "output_type": "stream",
          "name": "stdout",
          "text": [
            "[[ 1.00000000e+00  0.00000000e+00  0.00000000e+00  0.00000000e+00]\n",
            " [ 0.00000000e+00  1.00000000e+00  0.00000000e+00  0.00000000e+00]\n",
            " [ 0.00000000e+00  0.00000000e+00  1.00000000e+00  0.00000000e+00]\n",
            " [ 0.00000000e+00  0.00000000e+00  0.00000000e+00  1.00000000e+00]\n",
            " [ 0.00000000e+00 -3.23705297e-01 -3.94108231e-01  8.21113282e-03]\n",
            " [ 0.00000000e+00  5.06551367e+01  1.97067188e+00 -1.28492199e+00]\n",
            " [ 0.00000000e+00  5.43510977e-01  1.71502746e-01 -3.37492037e-01]\n",
            " [ 0.00000000e+00 -6.57258162e+01 -3.30881765e+00  5.23223427e+01]]\n",
            "4\n",
            "Observable\n"
          ]
        }
      ]
    },
    {
      "cell_type": "code",
      "source": [
        "QN = np.diag([1,1,1,1])\n",
        "RN = np.diag([1,1])\n",
        "# L,P,E = matlab.lqe(sys,QN,RN)\n",
        "L,P,E = matlab.lqe(A,G,C,QN,RN)"
      ],
      "metadata": {
        "id": "lx5YYYZzdbSD"
      },
      "execution_count": 330,
      "outputs": []
    },
    {
      "cell_type": "markdown",
      "source": [
        "# オブザーバを構成する"
      ],
      "metadata": {
        "id": "JTgarWL7cX8v"
      }
    },
    {
      "cell_type": "code",
      "source": [
        "Ao = A - L @ C\n",
        "Bo = np.append(L, B - L @ D, axis=1)\n",
        "Co = np.eye(4)\n",
        "Do = np.zeros((4,3))\n",
        "sys_obs = matlab.ss(Ao, Bo, Co, Do)\n",
        "matlab.pole(sys_obs)"
      ],
      "metadata": {
        "id": "BpWZBK3OcXc3",
        "colab": {
          "base_uri": "https://localhost:8080/"
        },
        "outputId": "0c306052-d00c-49aa-d527-5283044db7d5"
      },
      "execution_count": 331,
      "outputs": [
        {
          "output_type": "execute_result",
          "data": {
            "text/plain": [
              "array([-0.90677883+0.49870679j, -0.90677883-0.49870679j,\n",
              "       -6.3542075 +0.j        , -7.97658764+0.j        ])"
            ]
          },
          "metadata": {},
          "execution_count": 331
        }
      ]
    },
    {
      "cell_type": "markdown",
      "source": [
        "状態フィードバックゲインを求める"
      ],
      "metadata": {
        "id": "_-VnihWfdBpX"
      }
    },
    {
      "cell_type": "code",
      "source": [
        "Q = np.diag(np.array([1,1,1,1]))\n",
        "R = np.array([[1]])\n",
        "K,P,E = matlab.lqr(sys,Q,R)      # matlab.lqr() を使用した場合"
      ],
      "metadata": {
        "id": "LPtNyOEDdCcX"
      },
      "execution_count": 332,
      "outputs": []
    },
    {
      "cell_type": "markdown",
      "source": [
        "# シミュレーション\n",
        "## 閉ループ系の構成\n",
        "状態フィードバックに外生入力$v$を加えた\n",
        "\\begin{equation}\n",
        "      u(t) = -K x(t) + v\n",
        "\\end{equation}\n",
        "を施すと、閉ループ系は以下で与えられる.\n",
        "\\begin{equation}\n",
        "   \\dot{x}(t) = (A-BK) x(t) + B v(t), \\;\\;x(0)=x_0  \\\\\n",
        "    y(t) = (C-DK)x(t) + D v(t) ,\\;\\;  \\nonumber\n",
        "\\end{equation}\n",
        "これを構成する."
      ],
      "metadata": {
        "id": "Hlk5spJvtICB"
      }
    },
    {
      "cell_type": "code",
      "source": [
        "A_ = A - B @ K\n",
        "B_ = B # np.zeros((4, 1))\n",
        "# C_ = np.append(C,np.zeros((1,4)),axis=0)\n",
        "C_ = np.append( C - D @ K, -K, axis=0)\n",
        "D_ = np.append( D, [[1]], axis=0)\n",
        "\n",
        "sys_cl = matlab.ss(A_, B_, C_, D_)       # 状態空間モデル\n",
        "matlab.pole(sys_cl)\n"
      ],
      "metadata": {
        "id": "plIUTMkmsIvx",
        "colab": {
          "base_uri": "https://localhost:8080/"
        },
        "outputId": "bd553c22-0933-401e-9b90-4f998f75fdc2"
      },
      "execution_count": 333,
      "outputs": [
        {
          "output_type": "execute_result",
          "data": {
            "text/plain": [
              "array([-14.15381853+0.j,  -3.23728188+0.j,  -1.83597794+0.j,\n",
              "        -1.21245184+0.j])"
            ]
          },
          "metadata": {},
          "execution_count": 333
        }
      ]
    },
    {
      "cell_type": "markdown",
      "source": [],
      "metadata": {
        "id": "EfAKzMWaAVxL"
      }
    },
    {
      "cell_type": "markdown",
      "source": [
        "## 時間応答の観察\n",
        "matlab.lsim で、システムの応答とオブザーバの応答を計算し描画する"
      ],
      "metadata": {
        "id": "0TFF3XpftHbw"
      }
    },
    {
      "cell_type": "code",
      "source": [
        "# 初期値応答\n",
        "Td = np.arange(0, 10, 0.01)    #シミュレーション時間\n",
        "# rng = np.random.default_rng()\n",
        "# print(rng)\n",
        "# u = rng.random(len(Td))                    #入力\n",
        "v = np.zeros(len(Td))\n",
        "v[50:300] = np.ones(250)\n",
        "v[500:750] = np.ones(250)\n",
        "\n",
        "x0 = np.array([0.5, np.pi/5, 0,0])\n",
        "yu, t, x = matlab.lsim(sys_cl, v, Td, x0)\n",
        "u = (-K @ x.T).T + v\n",
        "\n",
        "z0 = np.zeros((4,1))\n",
        "z, t, xe = matlab.lsim(sys_obs, yu, Td)\n",
        "\n",
        "\n"
      ],
      "metadata": {
        "id": "NXIPDrVisKUx"
      },
      "execution_count": 334,
      "outputs": []
    },
    {
      "cell_type": "markdown",
      "source": [
        "応答波形を描画する"
      ],
      "metadata": {
        "id": "VjjZjwk6tpH5"
      }
    },
    {
      "cell_type": "code",
      "source": [
        "# 初期値応答の描画\n",
        "fig, ax = plt.subplots()\n",
        "ax.plot(t, yu[:, 0], ls = '-', label = '$y1:z$')\n",
        "ax.plot(t, yu[:, 1], ls = '-', label = '$y2:theta$')\n",
        "# ax.plot(t, yu[:, 2], ls = ':', label = '$u$')\n",
        "# ax.plot(t, u[:, 0], ls = ':', label = '$-Kx$')\n",
        "ax.set_title('state feedback system: plant state and estimated state')\n",
        "\n",
        "ax.plot(t, z[:, 0], ls = ':', lw = 3.0, label = '$z_{est}$')\n",
        "ax.plot(t, z[:, 1], ls = ':', lw = 3.0, label = '$theta_{est}$')\n",
        "\n",
        "ax.set_xlabel('t')\n",
        "ax.set_ylabel('x')\n",
        "ax.grid(ls=':')\n",
        "ax.legend(loc='best')\n",
        "plt.show()"
      ],
      "metadata": {
        "colab": {
          "base_uri": "https://localhost:8080/",
          "height": 472
        },
        "id": "LWZ8o2glsNip",
        "outputId": "3dd12b4f-b67f-4feb-ee07-b53556497611"
      },
      "execution_count": 335,
      "outputs": [
        {
          "output_type": "display_data",
          "data": {
            "text/plain": [
              "<Figure size 640x480 with 1 Axes>"
            ],
            "image/png": "[encoded data removed]"
          },
          "metadata": {}
        }
      ]
    },
    {
      "cell_type": "markdown",
      "source": [
        "## 状態フィードバック＋オブザーバによる出力フィードバック\n",
        "閉ループ系の構成\n",
        "状態フィードバックの代わりに推定値$z$をフィードバックする。\n",
        "すなわち、制御入力は\n",
        "u(t)=−Kz(t)+v\n",
        "となる。\n",
        "このとき、$y,v$と$z$の間には以下の関係が成り立つ\n",
        "\\begin{equation}\n",
        "   \\dot{z}(t) = (A-LC+(B-LD)K) z(t) + Ly(t) + (B-LD) v(t) \\\\\n",
        "    u(t) = K z(t) + v(t) ,\\;\\;  \\nonumber\n",
        "\\end{equation}\n"
      ],
      "metadata": {
        "id": "m2q_bRcul-Rm"
      }
    },
    {
      "cell_type": "code",
      "source": [
        "A_ = A - L@C - (B-L@D)@K\n",
        "B_ = L\n",
        "C_ = -K\n",
        "D_ = [[0,0]]\n",
        "\n",
        "sys_fbc = matlab.ss(A_, B_, C_, D_)       # 動的出力フィードバック制御器\n",
        "\n",
        "\n",
        "sys_total = matlab.feedback(sys, sys_fbc, sign=1)\n",
        "\n",
        "print('pole of state feedback system')\n",
        "print(matlab.pole(sys_cl))\n",
        "print('pole of obsereber')\n",
        "print(matlab.pole(sys_obs))\n",
        "print('pole of feedback controller')\n",
        "print(matlab.pole(sys_fbc))\n",
        "print('pole of total closed system')\n",
        "print(matlab.pole(sys_total))\n"
      ],
      "metadata": {
        "colab": {
          "base_uri": "https://localhost:8080/"
        },
        "id": "5JSdhT_snFUv",
        "outputId": "b784d61f-11e0-462a-838f-0337d400e87f"
      },
      "execution_count": 340,
      "outputs": [
        {
          "output_type": "stream",
          "name": "stdout",
          "text": [
            "pole of state feedback system\n",
            "[-14.15381853+0.j  -3.23728188+0.j  -1.83597794+0.j  -1.21245184+0.j]\n",
            "pole of obsereber\n",
            "[-0.90677883+0.49870679j -0.90677883-0.49870679j -6.3542075 +0.j\n",
            " -7.97658764+0.j        ]\n",
            "pole of feedback controller\n",
            "[-16.95597518+13.39397273j -16.95597518-13.39397273j\n",
            "  -1.1839547  +0.j           0.19105229 +0.j        ]\n",
            "pole of total closed system\n",
            "[-14.15381853+0.j          -0.90677883+0.49870679j\n",
            "  -0.90677883-0.49870679j  -1.21245184+0.j\n",
            "  -1.83597794+0.j          -3.23728188+0.j\n",
            "  -6.3542075 +0.j          -7.97658764+0.j        ]\n"
          ]
        }
      ]
    }
  ],
  "metadata": {
    "kernelspec": {
      "display_name": ".venv",
      "language": "python",
      "name": "python3"
    },
    "language_info": {
      "codemirror_mode": {
        "name": "ipython",
        "version": 3
      },
      "file_extension": ".py",
      "mimetype": "text/x-python",
      "name": "python",
      "nbconvert_exporter": "python",
      "pygments_lexer": "ipython3",
      "version": "3.12.0b2"
    },
    "colab": {
      "provenance": [],
      "include_colab_link": true
    }
  },
  "nbformat": 4,
  "nbformat_minor": 0
}